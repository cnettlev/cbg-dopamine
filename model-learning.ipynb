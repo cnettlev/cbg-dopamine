{
 "metadata": {
  "name": "",
  "signature": "sha256:28ccaeaf7b045f60b2ad3689001315cbe5149d58b25860209dd358c6b4a909f0"
 },
 "nbformat": 3,
 "nbformat_minor": 0,
 "worksheets": [
  {
   "cells": [
    {
     "cell_type": "markdown",
     "metadata": {},
     "source": [
      "**A Long Journey into Reproducible Computational Neurosciences Research**  \n",
      "Meropi Topalidou\u00b9\u00b2\u00b3, Thomas Boraud\u00b3 and Nicolas P. Rougier\u00b9\u00b2\u00b3*\n",
      "\n",
      "\u00b9 INRIA Bordeaux Sud-Ouest, France  \n",
      "\u00b2 LaBRI, UMR 5800 CNRS, Talence, France  \n",
      "\u00b3 Institute of Neurodegenerative Diseases, UMR 5293, Bordeaux, France  \n",
      "* Corresponding author ([Nicolas.Rougier@inria.fr](mailto:Nicolas.Rougier@inria.fr))"
     ]
    },
    {
     "cell_type": "markdown",
     "metadata": {},
     "source": [
      "### Packages import"
     ]
    },
    {
     "cell_type": "code",
     "collapsed": false,
     "input": [
      "%matplotlib inline\n",
      "from dana import *\n",
      "import matplotlib.pyplot as plt\n",
      "import os\n",
      "import time"
     ],
     "language": "python",
     "metadata": {},
     "outputs": [],
     "prompt_number": 1
    },
    {
     "cell_type": "markdown",
     "metadata": {},
     "source": [
      "### Simulation parameters"
     ]
    },
    {
     "cell_type": "code",
     "collapsed": false,
     "input": [
      "# Population size\n",
      "n = 4\n",
      "\n",
      "# Default trial duration\n",
      "duration = 3.0*second\n",
      "\n",
      "# Default Time resolution\n",
      "dt = 1.0*millisecond\n",
      "\n",
      "# Initialization of the random generator (reproductibility !)\n",
      "np.random.seed(1)"
     ],
     "language": "python",
     "metadata": {},
     "outputs": [],
     "prompt_number": 2
    },
    {
     "cell_type": "code",
     "collapsed": false,
     "input": [
      "# Threshold\n",
      "Cortex_h   =  -3.0\n",
      "Striatum_h =   0.0\n",
      "STN_h      = -10.0\n",
      "GPi_h      =  10.0\n",
      "Thalamus_h = -40.0"
     ],
     "language": "python",
     "metadata": {},
     "outputs": [],
     "prompt_number": 3
    },
    {
     "cell_type": "code",
     "collapsed": false,
     "input": [
      "# Time constants\n",
      "Cortex_tau   = 0.01\n",
      "Striatum_tau = 0.01\n",
      "STN_tau      = 0.01\n",
      "GPi_tau      = 0.01\n",
      "Thalamus_tau = 0.01"
     ],
     "language": "python",
     "metadata": {},
     "outputs": [],
     "prompt_number": 4
    },
    {
     "cell_type": "code",
     "collapsed": false,
     "input": [
      "# Noise leve (%)\n",
      "Cortex_N   =   0.01\n",
      "Striatum_N =   0.001\n",
      "STN_N      =   0.001\n",
      "GPi_N      =   0.03\n",
      "Thalamus_N =   0.001"
     ],
     "language": "python",
     "metadata": {},
     "outputs": [],
     "prompt_number": 5
    },
    {
     "cell_type": "code",
     "collapsed": false,
     "input": [
      "# Sigmoid parameters\n",
      "Vmin       =   0.0\n",
      "Vmax       =  20.0\n",
      "Vh         =  16.0\n",
      "Vc         =   3.0"
     ],
     "language": "python",
     "metadata": {},
     "outputs": [],
     "prompt_number": 6
    },
    {
     "cell_type": "code",
     "collapsed": false,
     "input": [
      "# Learning parameters\n",
      "a_c = 0.05\n",
      "a_aLTP = 0.002\n",
      "a_aLTD= 0.001\n",
      "Wmin = 0.25 \n",
      "Wmax = 0.75"
     ],
     "language": "python",
     "metadata": {},
     "outputs": [],
     "prompt_number": 7
    },
    {
     "cell_type": "markdown",
     "metadata": {},
     "source": [
      "### Initialization of Values"
     ]
    },
    {
     "cell_type": "code",
     "collapsed": false,
     "input": [
      "simulation = 0\n",
      "trial = 0\n",
      "\n",
      "T = []\n",
      "C_Cx, M_Cx, A_Cx = [], [], []\n",
      "C_Str, M_Str, A_Str = [], [], []\n",
      "C_STN, M_STN = [], []\n",
      "C_GPi, M_GPi = [], []\n",
      "C_Th, M_Th = [], []\n",
      "\n",
      "Cue_Rw_Choice = np.zeros((120,7))\n",
      "equal_m_c = np.zeros(120)"
     ],
     "language": "python",
     "metadata": {},
     "outputs": [],
     "prompt_number": 8
    },
    {
     "cell_type": "code",
     "collapsed": false,
     "input": [
      "# Learning weights\n",
      "Weights = np.zeros((121,4))\n",
      "V_value = np.zeros((120,4))\n",
      "\n",
      "Cue_Values = np.ones((4,2))*7.0\n",
      "PR = np.linspace(0.,1.,4)\n",
      "R = np.zeros(120)\n",
      "Right_Choice = np.zeros(120)\n",
      "V = 0.5 * np.ones((4,1))"
     ],
     "language": "python",
     "metadata": {},
     "outputs": [],
     "prompt_number": 9
    },
    {
     "cell_type": "markdown",
     "metadata": {},
     "source": [
      "### Helper functions"
     ]
    },
    {
     "cell_type": "code",
     "collapsed": false,
     "input": [
      "def Boltzmann(V,Vmin=Vmin,Vmax=Vmax,Vh=Vh,Vc=Vc):\n",
      "    return  Vmin + (Vmax-Vmin)/(1.0+np.exp((Vh-V)/Vc))"
     ],
     "language": "python",
     "metadata": {},
     "outputs": [],
     "prompt_number": 10
    },
    {
     "cell_type": "code",
     "collapsed": false,
     "input": [
      "def noise(V, level):\n",
      "    return  V + np.random.normal(0,(abs(V)+0.0001)*level,V.shape)"
     ],
     "language": "python",
     "metadata": {},
     "outputs": [],
     "prompt_number": 11
    },
    {
     "cell_type": "code",
     "collapsed": false,
     "input": [
      "def init_weights(Initial_Weights, gain=1):\n",
      "    global Wmin, Wmax \n",
      "    N = np.random.normal(0.5, 0.005, Initial_Weights.shape)\n",
      "    N = np.minimum(np.maximum(N, 0.0),1.0)\n",
      "    return gain*Initial_Weights*(Wmin+(Wmax-Wmin)*N)"
     ],
     "language": "python",
     "metadata": {},
     "outputs": [],
     "prompt_number": 12
    },
    {
     "cell_type": "code",
     "collapsed": false,
     "input": [
      "def min_max(w, Wmin = Wmin, Wmax = Wmax):\n",
      "    return np.minimum(Wmax,np.maximum(w[w!=0],Wmin))"
     ],
     "language": "python",
     "metadata": {},
     "outputs": [],
     "prompt_number": 13
    },
    {
     "cell_type": "markdown",
     "metadata": {},
     "source": [
      "### Populations"
     ]
    },
    {
     "cell_type": "code",
     "collapsed": false,
     "input": [
      "Cortex_cog   = zeros((n,1), \"\"\"dV/dt = -V +U + (-V + noise(I+Iext,Cortex_N) - Cortex_h)/Cortex_tau;\n",
      "                               U = np.maximum(V,0); I; Iext\"\"\")\n",
      "Cortex_mot   = zeros((1,n), \"\"\"dV/dt = -V +U + (-V +noise(I+Iext,Cortex_N) - Cortex_h)/Cortex_tau;\n",
      "                               U = np.maximum(V,0); I; Iext\"\"\")\n",
      "Cortex_ass   = zeros((n,n), \"\"\"dV/dt = -V +U + (-V + Iext - Cortex_h)/Cortex_tau;\n",
      "                               U = np.maximum(noise(V,Cortex_N),0); Iext\"\"\")\n",
      "Striatum_cog = zeros((n,1), \"\"\"dV/dt = -V +U + (-V + noise(Boltzmann(I), Striatum_N) - Striatum_h)/Striatum_tau;\n",
      "                               U = np.maximum(V,0); I\"\"\")\n",
      "Striatum_mot = zeros((1,n), \"\"\"dV/dt = -V +U + (-V + noise(Boltzmann(I), Striatum_N) - Striatum_h)/Striatum_tau;\n",
      "                               U = np.maximum(V,0); I\"\"\")\n",
      "Striatum_ass = zeros((n,n), \"\"\"dV/dt = -V +U + (-V + noise(Boltzmann(0.2*I + I_Ass), Striatum_N) - Striatum_h)/Striatum_tau;\n",
      "                               U = np.maximum(V,0); I; I_Ass\"\"\")\n",
      "STN_cog      = zeros((n,1), \"\"\"dV/dt = -V +U + (-V + noise(I, STN_N) - STN_h)/STN_tau;\n",
      "                               U = np.maximum(V,0); I\"\"\")\n",
      "STN_mot      = zeros((1,n), \"\"\"dV/dt = -V +U + (-V +  noise(I, STN_N) - STN_h)/STN_tau;\n",
      "                               U = np.maximum(V,0); I\"\"\")\n",
      "GPi_cog      = zeros((n,1), \"\"\"dV/dt = -V +U + (-V + noise(-2.0*I_Str + I , GPi_N) - GPi_h)/GPi_tau;\n",
      "                               U = np.maximum(V,0); I_Str; I\"\"\")\n",
      "GPi_mot      = zeros((1,n), \"\"\"dV/dt = -V +U + (-V + noise(-2.0*I_Str + I , GPi_N) - GPi_h)/GPi_tau;\n",
      "                               U = np.maximum(V,0); I_Str; I\"\"\")\n",
      "Thalamus_cog = zeros((n,1), \"\"\"dV/dt = -V +U + (-V -0.5*I + 0.4*I_Cx - Thalamus_h)/Thalamus_tau;\n",
      "                               U = np.maximum(noise(V, Thalamus_N),0); I; I_Cx\"\"\")\n",
      "Thalamus_mot = zeros((1,n), \"\"\"dV/dt = -V +U + (-V -0.5*I + 0.4*I_Cx - Thalamus_h)/Thalamus_tau;\n",
      "                               U = np.maximum(noise(V,Thalamus_N),0); I; I_Cx\"\"\")"
     ],
     "language": "python",
     "metadata": {},
     "outputs": [],
     "prompt_number": 14
    },
    {
     "cell_type": "markdown",
     "metadata": {},
     "source": [
      "### Connectivity"
     ]
    },
    {
     "cell_type": "code",
     "collapsed": false,
     "input": [
      "Cog_Con = DenseConnection( Cortex_cog('V'),   Striatum_cog('I'), 1.0)\n",
      "Initial_Cog_Con = Cog_Con._weights\n",
      "Cog_Con._weights = init_weights(Initial_Cog_Con) \n",
      "\n",
      "Mot_Con = DenseConnection( Cortex_mot('V'),   Striatum_mot('I'), 1.0)\n",
      "Initial_Mot_Con = Mot_Con._weights\n",
      "Mot_Con._weights = init_weights(Mot_Con._weights)\n",
      "\n",
      "Ass_Con = DenseConnection( Cortex_ass('V'),   Striatum_ass('I_Ass'), 1.0)\n",
      "Initial_Ass_Con = Ass_Con._weights\n",
      "Ass_Con._weights = init_weights(Ass_Con._weights)\n",
      "\n",
      "Cog_Ass_Con = DenseConnection( Cortex_cog('V'),   Striatum_ass('I'), np.ones((1,2*n+1)))\n",
      "Initial_Cog_Ass_Con = Cog_Ass_Con._weights\n",
      "Cog_Ass_Con._weights = init_weights(Cog_Ass_Con._weights)\n",
      "\n",
      "Mot_Ass_Con = DenseConnection( Cortex_mot('V'),   Striatum_ass('I'), np.ones((2*n+1,1)))\n",
      "Initial_Mot_Ass_Con = Mot_Ass_Con._weights\n",
      "Mot_Ass_Con._weights = init_weights(Mot_Ass_Con._weights)\n",
      "\n",
      "DenseConnection( Cortex_cog('V'),   STN_cog('I'),       1.0 )\n",
      "DenseConnection( Cortex_mot('V'),   STN_mot('I'),       1.0 )\n",
      "DenseConnection( Striatum_cog('V'), GPi_cog('I_Str'),      1.0 )\n",
      "DenseConnection( Striatum_mot('V'), GPi_mot('I_Str'),      1.0 )\n",
      "DenseConnection( Striatum_ass('V'), GPi_cog('I_Str'),      np.ones((1,2*n+1)))\n",
      "DenseConnection( Striatum_ass('V'), GPi_mot('I_Str'),      np.ones((2*n+1,1)))\n",
      "DenseConnection( STN_cog('V'),      GPi_cog('I'),       1.0*np.ones((2*n+1,1)) )\n",
      "DenseConnection( STN_mot('V'),      GPi_mot('I'),       1.0*np.ones((1,2*n+1)) )\n",
      "DenseConnection( GPi_cog('V'),      Thalamus_cog('I'), 1.0 )\n",
      "DenseConnection( GPi_mot('V'),      Thalamus_mot('I'), 1.0 )\n",
      "DenseConnection( Thalamus_cog('V'), Cortex_cog('I'),    1.0 )\n",
      "DenseConnection( Thalamus_mot('V'), Cortex_mot('I'),    1.0 )\n",
      "DenseConnection( Cortex_cog('V'),   Thalamus_cog('I_Cx'),  1.0 )\n",
      "DenseConnection( Cortex_mot('V'),   Thalamus_mot('I_Cx'),  1.0 )"
     ],
     "language": "python",
     "metadata": {},
     "outputs": [
      {
       "metadata": {},
       "output_type": "pyout",
       "prompt_number": 15,
       "text": [
        "<dana.dense_connection.DenseConnection at 0x10eb66250>"
       ]
      }
     ],
     "prompt_number": 15
    },
    {
     "cell_type": "markdown",
     "metadata": {},
     "source": [
      "### Cues Randomization for the Simulation"
     ]
    },
    {
     "cell_type": "code",
     "collapsed": false,
     "input": [
      "choices_cog  = np.array([[0,1],[0,2],[0,3],[1,2],[1,3],[2,3]])\n",
      "choices_mot  = np.array([[0,1],[0,2],[0,3],[1,2],[1,3],[2,3]])\n",
      "\n",
      "cues_cog = choices_cog.copy()\n",
      "cues_mot = choices_mot.copy()\n",
      "\n",
      "for i in range(1,20):\n",
      "    cues_cog = np.vstack((cues_cog,choices_cog))\n",
      "    cues_mot = np.vstack((cues_mot,choices_mot))"
     ],
     "language": "python",
     "metadata": {},
     "outputs": [],
     "prompt_number": 16
    },
    {
     "cell_type": "markdown",
     "metadata": {},
     "source": [
      "### Record Ensembles' Activity"
     ]
    },
    {
     "cell_type": "code",
     "collapsed": false,
     "input": [
      "@after(clock.tick)\n",
      "def register(t):\n",
      "    T.append(t)\n",
      "    C_Cx.append(Cortex_cog['V'].copy().ravel())\n",
      "    M_Cx.append(Cortex_mot['V'].copy().ravel())\n",
      "    A_Cx.append(Cortex_cog['V'].copy().ravel())\n",
      "    C_Str.append(Cortex_cog['V'].copy().ravel())\n",
      "    M_Str.append(Cortex_mot['V'].copy().ravel())\n",
      "    A_Str.append(Cortex_mot['V'].copy().ravel())\n",
      "    C_STN.append(Cortex_cog['V'].copy().ravel())\n",
      "    M_STN.append(Cortex_mot['V'].copy().ravel())\n",
      "    C_GPi.append(Cortex_cog['V'].copy().ravel())\n",
      "    M_GPi.append(Cortex_mot['V'].copy().ravel())\n",
      "    C_Th.append(Cortex_cog['V'].copy().ravel())\n",
      "    M_Th.append(Cortex_mot['V'].copy().ravel())"
     ],
     "language": "python",
     "metadata": {},
     "outputs": [],
     "prompt_number": 17
    },
    {
     "cell_type": "markdown",
     "metadata": {},
     "source": [
      "### Trial setup"
     ]
    },
    {
     "cell_type": "code",
     "collapsed": false,
     "input": [
      "@clock.every(3.0*second,500*millisecond)\n",
      "def set_trial(t):\n",
      "    global cues_cog, cues_mot, trial, Cue_Values\n",
      "    print 'trial = ', trial+1\n",
      "    c1, c2 = cues_cog[trial,0], cues_cog[trial,1]\n",
      "    m1, m2 = cues_mot[trial,0], cues_mot[trial,1]\n",
      "\n",
      "    Cortex_cog['Iext'][c1,0]  = Cue_Values[c1,0]\n",
      "    Cortex_cog['Iext'][c2,0]  = Cue_Values[c2,0]\n",
      "    Cortex_mot['Iext'][0,m1]  = Cue_Values[m1,1]\n",
      "    Cortex_mot['Iext'][0,m2]  = Cue_Values[m2,1]\n",
      "    Cortex_ass['Iext'][c1,m1] = Cue_Values[c1,0]\n",
      "    Cortex_ass['Iext'][c2,m2] = Cue_Values[c2,0]\n"
     ],
     "language": "python",
     "metadata": {},
     "outputs": [],
     "prompt_number": 18
    },
    {
     "cell_type": "markdown",
     "metadata": {},
     "source": [
      "### Selection"
     ]
    },
    {
     "cell_type": "code",
     "collapsed": false,
     "input": [
      "no_move = []\n",
      "@clock.every(3.0*second, 2.999*second)\n",
      "def selection(t):\n",
      "\tglobal trial, R, V\n",
      "    \n",
      "\tif trial == 0:\n",
      "\t\tWeights[trial] = Cog_Con.weights[0,0], Cog_Con.weights[1,1], Cog_Con.weights[2,2], Cog_Con.weights[3,3]\n",
      "\t\t\n",
      "\tmove = -np.sort(-Cortex_mot['V'])[:,0] - 40 > -np.sort(-Cortex_mot['V'])[:,1]\n",
      "\n",
      "\tif move:\n",
      "\t\tchoice = np.argmax(Cortex_mot['V'])\n",
      "\t\t#print 'choice = ', choice\n",
      "\t\tcognitive = np.argmax(Cortex_cog['V'])\n",
      "\t\tcog_right_ch = np.argmax(cues_cog[trial,:])\n",
      "\t\tmot_right_ch = cues_mot[trial,cog_right_ch]\n",
      "        \n",
      "\t\tch = np.where(choice == cues_mot[trial])\n",
      "\t\tequal_m_c[trial] = (1 if cognitive == cues_cog[trial,ch] else 0)\n",
      "\t\tRight_Choice[trial] = (1 if mot_right_ch == choice else 0)\n",
      "\t\tif np.any(cues_mot[trial] == choice):\n",
      "\t\t\tR[trial] = (1 if np.random.random() < PR[choice] else 0)\n",
      "\t\telse:\n",
      "\t\t\tR[trial] = 0\n",
      "\t\t\n",
      "\t\tPE = R[trial] - V[choice]\n",
      "\t\tV[choice] = V[choice] + (PE * a_c)\n",
      "\t\tV_value[trial] = V.T\n",
      "\t\t\n",
      "\t\tdw = PE  * Striatum_cog['V'][choice][0]\n",
      "\t\ta = (a_aLTP if dw>0 else a_aLTD)  \n",
      "\t\tCog_Con.weights[choice, choice] = min_max(Cog_Con.weights[choice, choice] + (dw* a))\n",
      "        \n",
      "\t\tWeights[trial+1] = Cog_Con.weights[0,0], Cog_Con.weights[1,1], Cog_Con.weights[2,2], Cog_Con.weights[3,3]\n",
      "\t\t\n",
      "\telse:\n",
      "\t    no_move.append([trial])\n",
      "\t    Cue_Rw_Choice[trial, 4] =  1\n",
      "\tCue_Rw_Choice[trial, 5:] =  R[trial], Right_Choice[trial]\n",
      "\ttrial += 1"
     ],
     "language": "python",
     "metadata": {},
     "outputs": [],
     "prompt_number": 19
    },
    {
     "cell_type": "markdown",
     "metadata": {},
     "source": [
      "### Reset Of Activity Ensembles After Every Trial"
     ]
    },
    {
     "cell_type": "code",
     "collapsed": false,
     "input": [
      "@clock.every(3.0*second,3.0*second)\n",
      "def reset(time):\n",
      "    Cortex_mot['Iext'] = 0\n",
      "    Cortex_cog['Iext'] = 0\n",
      "    Cortex_ass['Iext'] = 0\n",
      "    \n",
      "    Cortex_cog['V'] = 0\n",
      "    Cortex_mot['V'] = 0\n",
      "    Cortex_ass['V'] = 0\n",
      "\n",
      "    Striatum_cog['V'] = 0\n",
      "    Striatum_mot['V'] = 0\n",
      "    Striatum_ass['V'] = 0\n",
      "\n",
      "    STN_cog['V'] = 0\n",
      "    STN_mot['V'] = 0\n",
      "\n",
      "    GPi_cog['V'] = 0\n",
      "    GPi_mot['V'] = 0\n",
      "\n",
      "    Thalamus_cog['V'] = 0\n",
      "    Thalamus_mot['V'] = 0"
     ],
     "language": "python",
     "metadata": {},
     "outputs": [],
     "prompt_number": 20
    },
    {
     "cell_type": "markdown",
     "metadata": {},
     "source": [
      "### Run simulation"
     ]
    },
    {
     "cell_type": "code",
     "collapsed": false,
     "input": [
      "trials =120\n",
      "trial_duration = 3 * second\n",
      "duration = trials * trial_duration\n",
      "dt = 1*millisecond\n",
      "run(time=duration, dt=dt)"
     ],
     "language": "python",
     "metadata": {},
     "outputs": [
      {
       "output_type": "stream",
       "stream": "stdout",
       "text": [
        "trial =  1\n",
        "trial = "
       ]
      },
      {
       "output_type": "stream",
       "stream": "stdout",
       "text": [
        " 2\n",
        "trial = "
       ]
      },
      {
       "output_type": "stream",
       "stream": "stdout",
       "text": [
        " 3\n",
        "trial = "
       ]
      },
      {
       "output_type": "stream",
       "stream": "stdout",
       "text": [
        " 4\n",
        "trial = "
       ]
      },
      {
       "output_type": "stream",
       "stream": "stdout",
       "text": [
        " 5\n",
        "trial = "
       ]
      },
      {
       "output_type": "stream",
       "stream": "stdout",
       "text": [
        " 6\n",
        "trial = "
       ]
      },
      {
       "output_type": "stream",
       "stream": "stdout",
       "text": [
        " 7\n",
        "trial = "
       ]
      },
      {
       "output_type": "stream",
       "stream": "stdout",
       "text": [
        " 8\n",
        "trial = "
       ]
      },
      {
       "output_type": "stream",
       "stream": "stdout",
       "text": [
        " 9\n",
        "trial = "
       ]
      },
      {
       "output_type": "stream",
       "stream": "stdout",
       "text": [
        " 10\n",
        "trial = "
       ]
      },
      {
       "output_type": "stream",
       "stream": "stdout",
       "text": [
        " 11\n",
        "trial = "
       ]
      },
      {
       "output_type": "stream",
       "stream": "stdout",
       "text": [
        " 12\n",
        "trial = "
       ]
      },
      {
       "output_type": "stream",
       "stream": "stdout",
       "text": [
        " 13\n",
        "trial = "
       ]
      },
      {
       "output_type": "stream",
       "stream": "stdout",
       "text": [
        " 14\n",
        "trial = "
       ]
      },
      {
       "output_type": "stream",
       "stream": "stdout",
       "text": [
        " 15\n",
        "trial = "
       ]
      },
      {
       "output_type": "stream",
       "stream": "stdout",
       "text": [
        " 16\n",
        "trial = "
       ]
      },
      {
       "output_type": "stream",
       "stream": "stdout",
       "text": [
        " 17\n",
        "trial = "
       ]
      },
      {
       "output_type": "stream",
       "stream": "stdout",
       "text": [
        " 18\n",
        "trial = "
       ]
      },
      {
       "output_type": "stream",
       "stream": "stdout",
       "text": [
        " 19\n",
        "trial = "
       ]
      },
      {
       "output_type": "stream",
       "stream": "stdout",
       "text": [
        " 20\n",
        "trial = "
       ]
      },
      {
       "output_type": "stream",
       "stream": "stdout",
       "text": [
        " 21\n",
        "trial = "
       ]
      },
      {
       "output_type": "stream",
       "stream": "stdout",
       "text": [
        " 22\n",
        "trial = "
       ]
      },
      {
       "output_type": "stream",
       "stream": "stdout",
       "text": [
        " 23\n",
        "trial = "
       ]
      },
      {
       "output_type": "stream",
       "stream": "stdout",
       "text": [
        " 24\n",
        "trial = "
       ]
      },
      {
       "output_type": "stream",
       "stream": "stdout",
       "text": [
        " 25\n",
        "trial = "
       ]
      },
      {
       "output_type": "stream",
       "stream": "stdout",
       "text": [
        " 26\n",
        "trial = "
       ]
      },
      {
       "output_type": "stream",
       "stream": "stdout",
       "text": [
        " 27\n",
        "trial = "
       ]
      },
      {
       "output_type": "stream",
       "stream": "stdout",
       "text": [
        " 28\n",
        "trial = "
       ]
      },
      {
       "output_type": "stream",
       "stream": "stdout",
       "text": [
        " 29\n",
        "trial = "
       ]
      },
      {
       "output_type": "stream",
       "stream": "stdout",
       "text": [
        " 30\n",
        "trial = "
       ]
      },
      {
       "output_type": "stream",
       "stream": "stdout",
       "text": [
        " 31\n",
        "trial = "
       ]
      },
      {
       "output_type": "stream",
       "stream": "stdout",
       "text": [
        " 32\n",
        "trial = "
       ]
      },
      {
       "output_type": "stream",
       "stream": "stdout",
       "text": [
        " 33\n",
        "trial = "
       ]
      },
      {
       "output_type": "stream",
       "stream": "stdout",
       "text": [
        " 34\n",
        "trial = "
       ]
      },
      {
       "output_type": "stream",
       "stream": "stdout",
       "text": [
        " 35\n",
        "trial = "
       ]
      },
      {
       "output_type": "stream",
       "stream": "stdout",
       "text": [
        " 36\n",
        "trial = "
       ]
      },
      {
       "output_type": "stream",
       "stream": "stdout",
       "text": [
        " 37\n",
        "trial = "
       ]
      },
      {
       "output_type": "stream",
       "stream": "stdout",
       "text": [
        " 38\n",
        "trial = "
       ]
      },
      {
       "output_type": "stream",
       "stream": "stdout",
       "text": [
        " 39\n",
        "trial = "
       ]
      },
      {
       "output_type": "stream",
       "stream": "stdout",
       "text": [
        " 40\n",
        "trial = "
       ]
      },
      {
       "output_type": "stream",
       "stream": "stdout",
       "text": [
        " 41\n",
        "trial = "
       ]
      },
      {
       "output_type": "stream",
       "stream": "stdout",
       "text": [
        " 42\n",
        "trial = "
       ]
      },
      {
       "output_type": "stream",
       "stream": "stdout",
       "text": [
        " 43\n",
        "trial = "
       ]
      },
      {
       "output_type": "stream",
       "stream": "stdout",
       "text": [
        " 44\n",
        "trial = "
       ]
      },
      {
       "output_type": "stream",
       "stream": "stdout",
       "text": [
        " 45\n",
        "trial = "
       ]
      },
      {
       "output_type": "stream",
       "stream": "stdout",
       "text": [
        " 46\n",
        "trial = "
       ]
      },
      {
       "output_type": "stream",
       "stream": "stdout",
       "text": [
        " 47\n",
        "trial = "
       ]
      },
      {
       "output_type": "stream",
       "stream": "stdout",
       "text": [
        " 48\n",
        "trial = "
       ]
      },
      {
       "output_type": "stream",
       "stream": "stdout",
       "text": [
        " 49\n",
        "trial = "
       ]
      },
      {
       "output_type": "stream",
       "stream": "stdout",
       "text": [
        " 50\n",
        "trial = "
       ]
      },
      {
       "output_type": "stream",
       "stream": "stdout",
       "text": [
        " 51\n",
        "trial = "
       ]
      },
      {
       "output_type": "stream",
       "stream": "stdout",
       "text": [
        " 52\n",
        "trial = "
       ]
      },
      {
       "output_type": "stream",
       "stream": "stdout",
       "text": [
        " 53\n",
        "trial = "
       ]
      },
      {
       "output_type": "stream",
       "stream": "stdout",
       "text": [
        " 54\n",
        "trial = "
       ]
      },
      {
       "output_type": "stream",
       "stream": "stdout",
       "text": [
        " 55\n",
        "trial = "
       ]
      },
      {
       "output_type": "stream",
       "stream": "stdout",
       "text": [
        " 56\n",
        "trial = "
       ]
      },
      {
       "output_type": "stream",
       "stream": "stdout",
       "text": [
        " 57\n",
        "trial = "
       ]
      },
      {
       "output_type": "stream",
       "stream": "stdout",
       "text": [
        " 58\n",
        "trial = "
       ]
      },
      {
       "output_type": "stream",
       "stream": "stdout",
       "text": [
        " 59\n",
        "trial = "
       ]
      },
      {
       "output_type": "stream",
       "stream": "stdout",
       "text": [
        " 60\n",
        "trial = "
       ]
      },
      {
       "output_type": "stream",
       "stream": "stdout",
       "text": [
        " 61\n",
        "trial = "
       ]
      },
      {
       "output_type": "stream",
       "stream": "stdout",
       "text": [
        " 62\n",
        "trial = "
       ]
      },
      {
       "output_type": "stream",
       "stream": "stdout",
       "text": [
        " 63\n",
        "trial = "
       ]
      },
      {
       "output_type": "stream",
       "stream": "stdout",
       "text": [
        " 64\n",
        "trial = "
       ]
      },
      {
       "output_type": "stream",
       "stream": "stdout",
       "text": [
        " 65\n",
        "trial = "
       ]
      },
      {
       "output_type": "stream",
       "stream": "stdout",
       "text": [
        " 66\n",
        "trial = "
       ]
      },
      {
       "output_type": "stream",
       "stream": "stdout",
       "text": [
        " 67\n",
        "trial = "
       ]
      },
      {
       "output_type": "stream",
       "stream": "stdout",
       "text": [
        " 68\n",
        "trial = "
       ]
      },
      {
       "output_type": "stream",
       "stream": "stdout",
       "text": [
        " 69\n",
        "trial = "
       ]
      },
      {
       "output_type": "stream",
       "stream": "stdout",
       "text": [
        " 70\n",
        "trial = "
       ]
      },
      {
       "output_type": "stream",
       "stream": "stdout",
       "text": [
        " 71\n",
        "trial = "
       ]
      },
      {
       "output_type": "stream",
       "stream": "stdout",
       "text": [
        " 72\n",
        "trial = "
       ]
      },
      {
       "output_type": "stream",
       "stream": "stdout",
       "text": [
        " 73\n",
        "trial = "
       ]
      },
      {
       "output_type": "stream",
       "stream": "stdout",
       "text": [
        " 74\n",
        "trial = "
       ]
      },
      {
       "output_type": "stream",
       "stream": "stdout",
       "text": [
        " 75\n",
        "trial = "
       ]
      },
      {
       "output_type": "stream",
       "stream": "stdout",
       "text": [
        " 76\n",
        "trial = "
       ]
      },
      {
       "output_type": "stream",
       "stream": "stdout",
       "text": [
        " 77\n",
        "trial = "
       ]
      },
      {
       "output_type": "stream",
       "stream": "stdout",
       "text": [
        " 78\n",
        "trial = "
       ]
      },
      {
       "output_type": "stream",
       "stream": "stdout",
       "text": [
        " 79\n",
        "trial = "
       ]
      },
      {
       "output_type": "stream",
       "stream": "stdout",
       "text": [
        " 80\n",
        "trial = "
       ]
      },
      {
       "output_type": "stream",
       "stream": "stdout",
       "text": [
        " 81\n",
        "trial = "
       ]
      },
      {
       "output_type": "stream",
       "stream": "stdout",
       "text": [
        " 82\n",
        "trial = "
       ]
      },
      {
       "output_type": "stream",
       "stream": "stdout",
       "text": [
        " 83\n",
        "trial = "
       ]
      },
      {
       "output_type": "stream",
       "stream": "stdout",
       "text": [
        " 84\n",
        "trial = "
       ]
      },
      {
       "output_type": "stream",
       "stream": "stdout",
       "text": [
        " 85\n",
        "trial = "
       ]
      },
      {
       "output_type": "stream",
       "stream": "stdout",
       "text": [
        " 86\n",
        "trial = "
       ]
      },
      {
       "output_type": "stream",
       "stream": "stdout",
       "text": [
        " 87\n",
        "trial = "
       ]
      },
      {
       "output_type": "stream",
       "stream": "stdout",
       "text": [
        " 88\n",
        "trial = "
       ]
      },
      {
       "output_type": "stream",
       "stream": "stdout",
       "text": [
        " 89\n",
        "trial = "
       ]
      },
      {
       "output_type": "stream",
       "stream": "stdout",
       "text": [
        " 90\n",
        "trial = "
       ]
      },
      {
       "output_type": "stream",
       "stream": "stdout",
       "text": [
        " 91\n",
        "trial = "
       ]
      },
      {
       "output_type": "stream",
       "stream": "stdout",
       "text": [
        " 92\n",
        "trial = "
       ]
      },
      {
       "output_type": "stream",
       "stream": "stdout",
       "text": [
        " 93\n",
        "trial = "
       ]
      },
      {
       "output_type": "stream",
       "stream": "stdout",
       "text": [
        " 94\n",
        "trial = "
       ]
      },
      {
       "output_type": "stream",
       "stream": "stdout",
       "text": [
        " 95\n",
        "trial = "
       ]
      },
      {
       "output_type": "stream",
       "stream": "stdout",
       "text": [
        " 96\n",
        "trial = "
       ]
      },
      {
       "output_type": "stream",
       "stream": "stdout",
       "text": [
        " 97\n",
        "trial = "
       ]
      },
      {
       "output_type": "stream",
       "stream": "stdout",
       "text": [
        " 98\n",
        "trial = "
       ]
      },
      {
       "output_type": "stream",
       "stream": "stdout",
       "text": [
        " 99\n",
        "trial = "
       ]
      },
      {
       "output_type": "stream",
       "stream": "stdout",
       "text": [
        " 100\n",
        "trial = "
       ]
      },
      {
       "output_type": "stream",
       "stream": "stdout",
       "text": [
        " 101\n",
        "trial = "
       ]
      },
      {
       "output_type": "stream",
       "stream": "stdout",
       "text": [
        " 102\n",
        "trial = "
       ]
      },
      {
       "output_type": "stream",
       "stream": "stdout",
       "text": [
        " 103\n",
        "trial = "
       ]
      },
      {
       "output_type": "stream",
       "stream": "stdout",
       "text": [
        " 104\n",
        "trial = "
       ]
      },
      {
       "output_type": "stream",
       "stream": "stdout",
       "text": [
        " 105\n",
        "trial = "
       ]
      },
      {
       "output_type": "stream",
       "stream": "stdout",
       "text": [
        " 106\n",
        "trial = "
       ]
      },
      {
       "output_type": "stream",
       "stream": "stdout",
       "text": [
        " 107\n",
        "trial = "
       ]
      },
      {
       "output_type": "stream",
       "stream": "stdout",
       "text": [
        " 108\n",
        "trial = "
       ]
      },
      {
       "output_type": "stream",
       "stream": "stdout",
       "text": [
        " 109\n",
        "trial = "
       ]
      },
      {
       "output_type": "stream",
       "stream": "stdout",
       "text": [
        " 110\n",
        "trial = "
       ]
      },
      {
       "output_type": "stream",
       "stream": "stdout",
       "text": [
        " 111\n",
        "trial = "
       ]
      },
      {
       "output_type": "stream",
       "stream": "stdout",
       "text": [
        " 112\n",
        "trial = "
       ]
      },
      {
       "output_type": "stream",
       "stream": "stdout",
       "text": [
        " 113\n",
        "trial = "
       ]
      },
      {
       "output_type": "stream",
       "stream": "stdout",
       "text": [
        " 114\n",
        "trial = "
       ]
      },
      {
       "output_type": "stream",
       "stream": "stdout",
       "text": [
        " 115\n",
        "trial = "
       ]
      },
      {
       "output_type": "stream",
       "stream": "stdout",
       "text": [
        " 116\n",
        "trial = "
       ]
      },
      {
       "output_type": "stream",
       "stream": "stdout",
       "text": [
        " 117\n",
        "trial = "
       ]
      },
      {
       "output_type": "stream",
       "stream": "stdout",
       "text": [
        " 118\n",
        "trial = "
       ]
      },
      {
       "output_type": "stream",
       "stream": "stdout",
       "text": [
        " 119\n",
        "trial = "
       ]
      },
      {
       "output_type": "stream",
       "stream": "stdout",
       "text": [
        " 120\n"
       ]
      }
     ],
     "prompt_number": 21
    },
    {
     "cell_type": "markdown",
     "metadata": {},
     "source": [
      "## Display Cortex's Activity from a Trial    "
     ]
    },
    {
     "cell_type": "code",
     "collapsed": false,
     "input": [
      "trial_time = 3 * 1000 \n",
      "duration = np.linspace(trial_time*0,trial_time*1-1,3000).astype(int)\n",
      "\n",
      "C = np.array(C_Cx)\n",
      "M = np.array(M_Cx)\n",
      "print C.shape\n",
      "timesteps = np.linspace(0.,3.,len(C[duration]))\n",
      "plt.plot(timesteps, C[duration,0],'b', label = 'Cognitive Cortex')\n",
      "plt.plot(timesteps, C[duration,1],'b')\n",
      "plt.plot(timesteps, C[duration,2],'b')\n",
      "plt.plot(timesteps, C[duration,3],'b')\n",
      "plt.plot(timesteps, M[duration,0],'r', label = 'Motor Cortex')\n",
      "plt.plot(timesteps, M[duration,1],'r')\n",
      "plt.plot(timesteps, M[duration,2],'r')\n",
      "plt.plot(timesteps, M[duration,3],'r')\n",
      "plt.xlabel(\"Time (seconds)\")\n",
      "plt.ylabel(\"Activity (Hz)\")\n",
      "plt.legend(frameon=False, loc='upper left')\n",
      "plt.xlim(0.0,2.5)\n",
      "plt.ylim(-10.0,80.0)\n",
      "\n",
      "plt.xticks([0.0, 0.5, 1.0, 1.5, 2.0, 2.5, 3.0],\n",
      "           ['0.0','0.5\\n(Trial start)','1.0','1.5', '2.0','2.5\\n(Trial stop)','3.0'])\n",
      "plt.show()"
     ],
     "language": "python",
     "metadata": {},
     "outputs": [
      {
       "output_type": "stream",
       "stream": "stdout",
       "text": [
        "(360001, 4)\n"
       ]
      },
      {
       "metadata": {},
       "output_type": "display_data",
       "png": "[encoded data removed]",
       "text": [
        "<matplotlib.figure.Figure at 0x13fac03d0>"
       ]
      }
     ],
     "prompt_number": 55
    },
    {
     "cell_type": "markdown",
     "metadata": {},
     "source": [
      "### Display of Weights' Changing During Learning"
     ]
    },
    {
     "cell_type": "code",
     "collapsed": false,
     "input": [
      "plt.plot(Weights[:,0], 'y')\n",
      "plt.plot(Weights[:,1], 'b')\n",
      "plt.plot(Weights[:,2], 'r')\n",
      "plt.plot(Weights[:,3], 'm')\n",
      "plt.show()"
     ],
     "language": "python",
     "metadata": {},
     "outputs": [
      {
       "metadata": {},
       "output_type": "display_data",
       "png": "[encoded data removed]",
       "text": [
        "<matplotlib.figure.Figure at 0x10eb5ec90>"
       ]
      }
     ],
     "prompt_number": 23
    },
    {
     "cell_type": "markdown",
     "metadata": {},
     "source": [
      "### Display of Values' Changing During Learning"
     ]
    },
    {
     "cell_type": "code",
     "collapsed": false,
     "input": [
      "plt.plot(V_value[:,0], 'y')\n",
      "plt.plot(V_value[:,1], 'b')\n",
      "plt.plot(V_value[:,2], 'r')\n",
      "plt.plot(V_value[:,3], 'm')\n",
      "plt.show()"
     ],
     "language": "python",
     "metadata": {},
     "outputs": [
      {
       "metadata": {},
       "output_type": "display_data",
       "png": "[encoded data removed]",
       "text": [
        "<matplotlib.figure.Figure at 0x13dc1fa50>"
       ]
      }
     ],
     "prompt_number": 24
    },
    {
     "cell_type": "markdown",
     "metadata": {},
     "source": [
      "### Display Equality of Cognitive and Motor Choice"
     ]
    },
    {
     "cell_type": "code",
     "collapsed": false,
     "input": [
      "zeros = np.array(np.where(equal_m_c == 0.0))\n",
      "\n",
      "ones = np.array(np.where(equal_m_c == 1.0))"
     ],
     "language": "python",
     "metadata": {},
     "outputs": [],
     "prompt_number": 25
    },
    {
     "cell_type": "code",
     "collapsed": false,
     "input": [
      "plt.hist(equal_m_c, bins = 3)\n",
      "plt.show()"
     ],
     "language": "python",
     "metadata": {},
     "outputs": [
      {
       "metadata": {},
       "output_type": "display_data",
       "png": "[encoded data removed]",
       "text": [
        "<matplotlib.figure.Figure at 0x13dba5410>"
       ]
      }
     ],
     "prompt_number": 26
    },
    {
     "cell_type": "code",
     "collapsed": false,
     "input": [
      "plt.plot(zeros,'*')\n",
      "plt.show()"
     ],
     "language": "python",
     "metadata": {},
     "outputs": [
      {
       "metadata": {},
       "output_type": "display_data",
       "png": "[encoded data removed]",
       "text": [
        "<matplotlib.figure.Figure at 0x13d384e10>"
       ]
      }
     ],
     "prompt_number": 27
    }
   ],
   "metadata": {}
  }
 ]
}